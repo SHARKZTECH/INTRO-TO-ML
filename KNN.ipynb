{
  "nbformat": 4,
  "nbformat_minor": 0,
  "metadata": {
    "colab": {
      "provenance": [],
      "mount_file_id": "1JVpbOMxb5nSA-tVwaAclVV1vxTwvCi2h",
      "authorship_tag": "ABX9TyMKLTA0HuuuLuhDN+p/tKB6",
      "include_colab_link": true
    },
    "kernelspec": {
      "name": "python3",
      "display_name": "Python 3"
    },
    "language_info": {
      "name": "python"
    }
  },
  "cells": [
    {
      "cell_type": "markdown",
      "metadata": {
        "id": "view-in-github",
        "colab_type": "text"
      },
      "source": [
        "<a href=\"https://colab.research.google.com/github/SHARKZTECH/INTRO-TO-ML/blob/main/KNN.ipynb\" target=\"_parent\"><img src=\"https://colab.research.google.com/assets/colab-badge.svg\" alt=\"Open In Colab\"/></a>"
      ]
    },
    {
      "cell_type": "code",
      "execution_count": null,
      "metadata": {
        "id": "gbvFBa-9JtHW"
      },
      "outputs": [],
      "source": [
        "import pandas as pd\n",
        "import numpy as np\n",
        "import sklearn\n",
        "from sklearn.utils import shuffle\n",
        "from sklearn.neighbors import KNeighborsClassifier\n",
        "from sklearn import linear_model,preprocessing"
      ]
    },
    {
      "cell_type": "code",
      "source": [],
      "metadata": {
        "id": "cjapmRIIKZ0I"
      },
      "execution_count": null,
      "outputs": []
    },
    {
      "cell_type": "code",
      "source": [
        "from google.colab import drive\n",
        "drive.mount('/content/drive')"
      ],
      "metadata": {
        "colab": {
          "base_uri": "https://localhost:8080/"
        },
        "id": "VXbas-tFPGiD",
        "outputId": "d7ee0e62-632e-4c66-bcb0-efb12c8947de"
      },
      "execution_count": null,
      "outputs": [
        {
          "output_type": "stream",
          "name": "stdout",
          "text": [
            "Drive already mounted at /content/drive; to attempt to forcibly remount, call drive.mount(\"/content/drive\", force_remount=True).\n"
          ]
        }
      ]
    },
    {
      "cell_type": "code",
      "source": [
        "data=pd.read_csv(\"/content/drive/MyDrive/Colab Notebooks/car.data\")\n",
        "data.head()"
      ],
      "metadata": {
        "id": "gG-N4JZsQmLh"
      },
      "execution_count": null,
      "outputs": []
    },
    {
      "cell_type": "code",
      "source": [
        "le=preprocessing.LabelEncoder()\n",
        "buying=le.fit_transform(list(data[\"buying\"]))\n",
        "maint=le.fit_transform(list(data[\"maint\"]))\n",
        "door=le.fit_transform(list(data[\"door\"]))\n",
        "persons=le.fit_transform(list(data[\"persons\"]))\n",
        "lug_boot=le.fit_transform(list(data[\"lug_boot\"]))\n",
        "safety=le.fit_transform(list(data[\"safety\"]))\n",
        "cls=le.fit_transform(list(data[\"class\"]))"
      ],
      "metadata": {
        "id": "n3eWKpKCRCZL"
      },
      "execution_count": null,
      "outputs": []
    },
    {
      "cell_type": "code",
      "source": [
        "predict=\"class\"\n",
        "\n",
        "X=list(zip(buying,maint,door,persons,lug_boot,safety))\n",
        "Y=list(cls)\n",
        "\n",
        "x_train,x_test,y_train,y_test=sklearn.model_selection.train_test_split(X,Y,test_size=0.1)\n",
        "\n",
        "print(x_train)\n",
        "print(y_train)"
      ],
      "metadata": {
        "id": "7KRQAUCOTnVt"
      },
      "execution_count": null,
      "outputs": []
    },
    {
      "cell_type": "code",
      "source": [
        "model=KNeighborsClassifier(n_neighbors=7)\n",
        "\n",
        "model.fit(x_train,y_train)\n",
        "\n",
        "acc=model.score(x_test,y_test)\n",
        "\n",
        "print(acc)"
      ],
      "metadata": {
        "colab": {
          "base_uri": "https://localhost:8080/"
        },
        "id": "jjgMUM8mUz3J",
        "outputId": "fa4cdb2d-3de2-4864-f82c-b556e2717307"
      },
      "execution_count": null,
      "outputs": [
        {
          "output_type": "stream",
          "name": "stdout",
          "text": [
            "0.9479768786127167\n"
          ]
        }
      ]
    },
    {
      "cell_type": "code",
      "source": [
        "predicted=model.predict(x_test)\n",
        "names=[\"unacc\",\"acc\",\"good\",\"vgood\"]\n",
        "\n",
        "for x in range(len(predicted)):\n",
        "  print(\"Data :\",x_test[x],\"Predicted :\",names[predicted[x]],\"Actual :\",names[y_test[x]])"
      ],
      "metadata": {
        "colab": {
          "base_uri": "https://localhost:8080/"
        },
        "id": "thV1YWJHb-1A",
        "outputId": "12c91e26-87ff-4f05-efa3-2276701b9348"
      },
      "execution_count": null,
      "outputs": [
        {
          "output_type": "stream",
          "name": "stdout",
          "text": [
            "Data : (1, 2, 2, 0, 0, 0) Predicted : good Actual : good\n",
            "Data : (3, 3, 0, 0, 2, 2) Predicted : good Actual : good\n",
            "Data : (3, 3, 3, 2, 1, 1) Predicted : good Actual : good\n",
            "Data : (3, 1, 1, 0, 1, 1) Predicted : good Actual : good\n",
            "Data : (0, 0, 0, 1, 0, 1) Predicted : good Actual : good\n",
            "Data : (2, 1, 1, 0, 0, 0) Predicted : good Actual : good\n",
            "Data : (2, 0, 2, 1, 0, 0) Predicted : unacc Actual : unacc\n",
            "Data : (0, 1, 2, 2, 2, 0) Predicted : unacc Actual : unacc\n",
            "Data : (3, 0, 3, 0, 1, 0) Predicted : good Actual : good\n",
            "Data : (3, 0, 0, 1, 0, 2) Predicted : good Actual : good\n",
            "Data : (3, 1, 1, 1, 1, 0) Predicted : unacc Actual : unacc\n",
            "Data : (1, 2, 3, 1, 0, 2) Predicted : unacc Actual : acc\n",
            "Data : (0, 3, 1, 0, 2, 2) Predicted : good Actual : good\n",
            "Data : (3, 1, 3, 0, 2, 0) Predicted : good Actual : good\n",
            "Data : (0, 3, 2, 0, 0, 1) Predicted : good Actual : good\n",
            "Data : (3, 1, 0, 2, 2, 2) Predicted : good Actual : good\n",
            "Data : (2, 3, 3, 2, 2, 2) Predicted : good Actual : good\n",
            "Data : (2, 1, 1, 0, 1, 2) Predicted : good Actual : good\n",
            "Data : (1, 2, 3, 2, 0, 2) Predicted : acc Actual : acc\n",
            "Data : (1, 2, 1, 0, 0, 1) Predicted : good Actual : good\n",
            "Data : (1, 2, 2, 0, 2, 0) Predicted : good Actual : good\n",
            "Data : (3, 1, 3, 0, 2, 1) Predicted : good Actual : good\n",
            "Data : (2, 1, 2, 2, 0, 0) Predicted : vgood Actual : vgood\n",
            "Data : (0, 0, 3, 2, 2, 0) Predicted : unacc Actual : unacc\n",
            "Data : (0, 2, 1, 1, 2, 0) Predicted : unacc Actual : unacc\n",
            "Data : (3, 0, 1, 0, 0, 0) Predicted : good Actual : good\n",
            "Data : (3, 2, 0, 1, 2, 2) Predicted : good Actual : good\n",
            "Data : (2, 2, 1, 2, 0, 2) Predicted : unacc Actual : unacc\n",
            "Data : (1, 1, 3, 2, 1, 0) Predicted : vgood Actual : vgood\n",
            "Data : (2, 1, 2, 2, 1, 0) Predicted : vgood Actual : vgood\n",
            "Data : (3, 1, 2, 0, 0, 1) Predicted : good Actual : good\n",
            "Data : (2, 3, 0, 0, 0, 0) Predicted : good Actual : good\n",
            "Data : (0, 2, 0, 2, 0, 0) Predicted : unacc Actual : unacc\n",
            "Data : (2, 2, 3, 0, 1, 0) Predicted : good Actual : good\n",
            "Data : (0, 0, 2, 2, 0, 2) Predicted : unacc Actual : unacc\n",
            "Data : (2, 1, 3, 1, 0, 2) Predicted : acc Actual : acc\n",
            "Data : (0, 1, 1, 1, 1, 2) Predicted : good Actual : good\n",
            "Data : (1, 1, 0, 2, 2, 0) Predicted : good Actual : good\n",
            "Data : (0, 1, 2, 2, 2, 1) Predicted : good Actual : good\n",
            "Data : (2, 0, 2, 1, 1, 0) Predicted : unacc Actual : unacc\n",
            "Data : (3, 2, 2, 0, 1, 0) Predicted : good Actual : good\n",
            "Data : (2, 1, 2, 1, 0, 2) Predicted : acc Actual : acc\n",
            "Data : (3, 0, 2, 1, 2, 2) Predicted : good Actual : good\n",
            "Data : (2, 0, 0, 1, 0, 0) Predicted : unacc Actual : unacc\n",
            "Data : (1, 0, 1, 0, 1, 2) Predicted : good Actual : good\n",
            "Data : (2, 2, 2, 2, 0, 0) Predicted : vgood Actual : vgood\n",
            "Data : (2, 0, 1, 2, 1, 0) Predicted : unacc Actual : unacc\n",
            "Data : (3, 1, 0, 2, 0, 2) Predicted : good Actual : unacc\n",
            "Data : (0, 1, 0, 0, 1, 0) Predicted : good Actual : good\n",
            "Data : (3, 3, 2, 2, 2, 1) Predicted : good Actual : good\n",
            "Data : (1, 0, 0, 2, 2, 0) Predicted : unacc Actual : good\n",
            "Data : (3, 0, 3, 1, 2, 2) Predicted : good Actual : good\n",
            "Data : (3, 0, 3, 2, 1, 0) Predicted : good Actual : good\n",
            "Data : (2, 3, 3, 2, 0, 2) Predicted : unacc Actual : unacc\n",
            "Data : (3, 3, 1, 2, 2, 1) Predicted : good Actual : good\n",
            "Data : (1, 0, 3, 0, 1, 0) Predicted : good Actual : good\n",
            "Data : (0, 2, 2, 2, 0, 2) Predicted : unacc Actual : unacc\n",
            "Data : (1, 2, 3, 0, 0, 2) Predicted : good Actual : good\n",
            "Data : (3, 3, 2, 1, 2, 1) Predicted : good Actual : good\n",
            "Data : (2, 0, 2, 0, 0, 0) Predicted : good Actual : good\n",
            "Data : (1, 2, 1, 2, 0, 1) Predicted : good Actual : good\n",
            "Data : (0, 1, 0, 0, 0, 1) Predicted : good Actual : good\n",
            "Data : (2, 1, 0, 1, 2, 0) Predicted : good Actual : acc\n",
            "Data : (0, 2, 2, 0, 1, 2) Predicted : good Actual : good\n",
            "Data : (3, 1, 0, 1, 0, 2) Predicted : good Actual : unacc\n",
            "Data : (1, 3, 3, 2, 0, 2) Predicted : unacc Actual : unacc\n",
            "Data : (1, 2, 2, 2, 2, 2) Predicted : unacc Actual : unacc\n",
            "Data : (1, 0, 0, 2, 2, 2) Predicted : good Actual : good\n",
            "Data : (0, 2, 3, 2, 1, 0) Predicted : unacc Actual : unacc\n",
            "Data : (0, 3, 0, 0, 0, 0) Predicted : good Actual : good\n",
            "Data : (0, 1, 1, 2, 2, 2) Predicted : good Actual : good\n",
            "Data : (2, 1, 2, 0, 2, 1) Predicted : good Actual : good\n",
            "Data : (0, 2, 2, 1, 1, 2) Predicted : unacc Actual : unacc\n",
            "Data : (0, 3, 0, 0, 0, 1) Predicted : good Actual : good\n",
            "Data : (3, 2, 3, 2, 1, 2) Predicted : good Actual : unacc\n",
            "Data : (0, 3, 0, 2, 2, 1) Predicted : good Actual : good\n",
            "Data : (2, 0, 1, 1, 1, 2) Predicted : good Actual : good\n",
            "Data : (2, 0, 1, 0, 0, 2) Predicted : good Actual : good\n",
            "Data : (0, 1, 2, 2, 0, 1) Predicted : good Actual : good\n",
            "Data : (1, 0, 2, 0, 1, 2) Predicted : good Actual : good\n",
            "Data : (2, 2, 3, 2, 2, 2) Predicted : unacc Actual : unacc\n",
            "Data : (1, 0, 2, 0, 1, 1) Predicted : good Actual : good\n",
            "Data : (1, 0, 1, 0, 1, 1) Predicted : good Actual : good\n",
            "Data : (1, 0, 1, 1, 1, 2) Predicted : unacc Actual : unacc\n",
            "Data : (1, 3, 1, 1, 1, 2) Predicted : good Actual : good\n",
            "Data : (3, 2, 3, 1, 1, 2) Predicted : good Actual : unacc\n",
            "Data : (2, 0, 0, 0, 1, 0) Predicted : good Actual : good\n",
            "Data : (2, 2, 0, 2, 2, 1) Predicted : good Actual : good\n",
            "Data : (2, 0, 2, 0, 2, 1) Predicted : good Actual : good\n",
            "Data : (0, 0, 1, 2, 1, 1) Predicted : good Actual : good\n",
            "Data : (1, 1, 1, 1, 2, 0) Predicted : acc Actual : acc\n",
            "Data : (0, 1, 1, 2, 2, 1) Predicted : good Actual : good\n",
            "Data : (2, 1, 2, 2, 2, 1) Predicted : good Actual : good\n",
            "Data : (3, 2, 2, 1, 1, 2) Predicted : good Actual : unacc\n",
            "Data : (3, 1, 2, 1, 2, 2) Predicted : good Actual : good\n",
            "Data : (1, 2, 1, 1, 2, 0) Predicted : acc Actual : acc\n",
            "Data : (3, 0, 1, 2, 2, 0) Predicted : good Actual : good\n",
            "Data : (1, 0, 3, 1, 1, 0) Predicted : vgood Actual : vgood\n",
            "Data : (0, 3, 3, 1, 1, 0) Predicted : good Actual : good\n",
            "Data : (2, 1, 0, 0, 0, 2) Predicted : good Actual : good\n",
            "Data : (1, 2, 2, 2, 2, 0) Predicted : acc Actual : acc\n",
            "Data : (1, 0, 2, 1, 0, 1) Predicted : good Actual : good\n",
            "Data : (2, 0, 0, 2, 2, 0) Predicted : good Actual : good\n",
            "Data : (0, 0, 0, 2, 0, 1) Predicted : good Actual : good\n",
            "Data : (0, 2, 0, 1, 2, 1) Predicted : good Actual : good\n",
            "Data : (0, 2, 2, 1, 0, 1) Predicted : good Actual : good\n",
            "Data : (1, 1, 3, 1, 0, 0) Predicted : vgood Actual : vgood\n",
            "Data : (1, 3, 0, 0, 1, 2) Predicted : good Actual : good\n",
            "Data : (2, 3, 1, 0, 0, 0) Predicted : good Actual : good\n",
            "Data : (1, 2, 2, 1, 1, 0) Predicted : vgood Actual : vgood\n",
            "Data : (2, 2, 3, 1, 0, 2) Predicted : unacc Actual : unacc\n",
            "Data : (2, 0, 3, 2, 0, 0) Predicted : unacc Actual : unacc\n",
            "Data : (1, 2, 3, 1, 0, 1) Predicted : good Actual : good\n",
            "Data : (1, 0, 2, 0, 0, 0) Predicted : good Actual : good\n",
            "Data : (1, 3, 3, 2, 0, 1) Predicted : good Actual : good\n",
            "Data : (1, 0, 2, 1, 2, 0) Predicted : unacc Actual : unacc\n",
            "Data : (3, 3, 0, 0, 0, 2) Predicted : good Actual : good\n",
            "Data : (0, 3, 1, 0, 2, 1) Predicted : good Actual : good\n",
            "Data : (0, 3, 3, 2, 0, 0) Predicted : good Actual : good\n",
            "Data : (0, 1, 2, 2, 1, 1) Predicted : good Actual : good\n",
            "Data : (3, 3, 1, 2, 0, 2) Predicted : good Actual : good\n",
            "Data : (1, 0, 3, 2, 2, 1) Predicted : good Actual : good\n",
            "Data : (3, 0, 1, 2, 0, 2) Predicted : good Actual : good\n",
            "Data : (1, 1, 0, 0, 1, 1) Predicted : good Actual : good\n",
            "Data : (3, 1, 3, 1, 2, 0) Predicted : unacc Actual : unacc\n",
            "Data : (0, 2, 0, 1, 1, 1) Predicted : good Actual : good\n",
            "Data : (2, 1, 1, 1, 2, 2) Predicted : good Actual : unacc\n",
            "Data : (2, 1, 0, 0, 2, 1) Predicted : good Actual : good\n",
            "Data : (2, 3, 3, 2, 1, 0) Predicted : unacc Actual : unacc\n",
            "Data : (1, 3, 2, 1, 2, 1) Predicted : good Actual : good\n",
            "Data : (0, 2, 1, 2, 2, 0) Predicted : unacc Actual : unacc\n",
            "Data : (1, 1, 2, 2, 1, 1) Predicted : good Actual : good\n",
            "Data : (2, 3, 0, 1, 0, 1) Predicted : good Actual : good\n",
            "Data : (2, 1, 3, 1, 2, 1) Predicted : good Actual : good\n",
            "Data : (0, 1, 3, 0, 0, 0) Predicted : good Actual : good\n",
            "Data : (3, 3, 2, 0, 0, 1) Predicted : good Actual : good\n",
            "Data : (2, 3, 1, 2, 1, 1) Predicted : good Actual : good\n",
            "Data : (2, 1, 3, 1, 1, 1) Predicted : good Actual : good\n",
            "Data : (2, 2, 0, 1, 1, 2) Predicted : unacc Actual : unacc\n",
            "Data : (2, 2, 2, 2, 1, 1) Predicted : good Actual : good\n",
            "Data : (2, 0, 2, 1, 1, 1) Predicted : good Actual : good\n",
            "Data : (3, 1, 0, 2, 0, 0) Predicted : unacc Actual : unacc\n",
            "Data : (3, 2, 3, 2, 0, 2) Predicted : unacc Actual : unacc\n",
            "Data : (0, 2, 1, 1, 2, 2) Predicted : good Actual : good\n",
            "Data : (3, 2, 0, 2, 1, 2) Predicted : good Actual : good\n",
            "Data : (2, 3, 2, 1, 2, 2) Predicted : good Actual : good\n",
            "Data : (3, 1, 2, 2, 0, 0) Predicted : unacc Actual : unacc\n",
            "Data : (3, 3, 3, 2, 0, 1) Predicted : good Actual : good\n",
            "Data : (3, 0, 0, 2, 2, 2) Predicted : good Actual : good\n",
            "Data : (3, 0, 0, 1, 1, 1) Predicted : good Actual : good\n",
            "Data : (3, 3, 1, 0, 2, 0) Predicted : good Actual : good\n",
            "Data : (2, 0, 1, 1, 1, 1) Predicted : good Actual : good\n",
            "Data : (0, 3, 0, 2, 0, 2) Predicted : good Actual : good\n",
            "Data : (0, 1, 2, 1, 0, 2) Predicted : unacc Actual : unacc\n",
            "Data : (2, 0, 0, 0, 0, 1) Predicted : good Actual : good\n",
            "Data : (1, 1, 2, 0, 0, 1) Predicted : good Actual : good\n",
            "Data : (0, 0, 1, 1, 1, 2) Predicted : good Actual : good\n",
            "Data : (3, 0, 2, 0, 1, 1) Predicted : good Actual : good\n",
            "Data : (1, 3, 0, 0, 2, 2) Predicted : good Actual : good\n",
            "Data : (3, 2, 0, 1, 0, 0) Predicted : unacc Actual : unacc\n",
            "Data : (3, 3, 2, 1, 2, 0) Predicted : good Actual : good\n",
            "Data : (0, 2, 3, 0, 2, 1) Predicted : good Actual : good\n",
            "Data : (1, 3, 1, 2, 1, 1) Predicted : good Actual : good\n",
            "Data : (0, 3, 1, 2, 1, 1) Predicted : good Actual : good\n",
            "Data : (3, 2, 2, 1, 2, 1) Predicted : good Actual : good\n",
            "Data : (1, 3, 3, 0, 0, 0) Predicted : good Actual : good\n",
            "Data : (1, 1, 0, 1, 1, 2) Predicted : unacc Actual : unacc\n",
            "Data : (2, 0, 2, 2, 0, 1) Predicted : good Actual : good\n",
            "Data : (3, 0, 2, 0, 1, 2) Predicted : good Actual : good\n",
            "Data : (3, 1, 3, 2, 2, 2) Predicted : good Actual : good\n",
            "Data : (2, 0, 2, 1, 2, 2) Predicted : good Actual : good\n",
            "Data : (1, 0, 2, 1, 0, 0) Predicted : vgood Actual : vgood\n",
            "Data : (0, 0, 2, 1, 0, 1) Predicted : good Actual : good\n"
          ]
        }
      ]
    },
    {
      "cell_type": "code",
      "source": [],
      "metadata": {
        "id": "7iYmeCuZdsxL"
      },
      "execution_count": null,
      "outputs": []
    }
  ]
}