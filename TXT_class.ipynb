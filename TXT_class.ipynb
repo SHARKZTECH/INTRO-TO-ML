{
  "nbformat": 4,
  "nbformat_minor": 0,
  "metadata": {
    "colab": {
      "provenance": [],
      "mount_file_id": "10TlPCmxaXrmpbE_HkX9ncoTc3t6rkKkM",
      "authorship_tag": "ABX9TyPyJPV/RG4+T4kRPNuMsFE1",
      "include_colab_link": true
    },
    "kernelspec": {
      "name": "python3",
      "display_name": "Python 3"
    },
    "language_info": {
      "name": "python"
    }
  },
  "cells": [
    {
      "cell_type": "markdown",
      "metadata": {
        "id": "view-in-github",
        "colab_type": "text"
      },
      "source": [
        "<a href=\"https://colab.research.google.com/github/SHARKZTECH/INTRO-TO-ML/blob/main/TXT_class.ipynb\" target=\"_parent\"><img src=\"https://colab.research.google.com/assets/colab-badge.svg\" alt=\"Open In Colab\"/></a>"
      ]
    },
    {
      "cell_type": "code",
      "execution_count": null,
      "metadata": {
        "id": "AvJW1u7EpTo5"
      },
      "outputs": [],
      "source": [
        "import tensorflow as tf\n",
        "from tensorflow import keras\n",
        "import numpy as np"
      ]
    },
    {
      "cell_type": "code",
      "source": [
        " #Load dataset\n",
        "data=keras.datasets.imdb\n",
        "(train_data,train_label),(test_data,test_label)=data.load_data(num_words=88000)"
      ],
      "metadata": {
        "id": "gCt27pkj0klz",
        "colab": {
          "base_uri": "https://localhost:8080/"
        },
        "outputId": "61d833a7-d136-446b-e2bb-2fe531c1f7a4"
      },
      "execution_count": null,
      "outputs": [
        {
          "output_type": "stream",
          "name": "stdout",
          "text": [
            "Downloading data from https://storage.googleapis.com/tensorflow/tf-keras-datasets/imdb.npz\n",
            "17464789/17464789 [==============================] - 0s 0us/step\n"
          ]
        }
      ]
    },
    {
      "cell_type": "code",
      "source": [
        "# A dictionary mapping words to an integer index\n",
        "_word_index = data.get_word_index()\n",
        "\n",
        "word_index = {k:(v+3) for k,v in _word_index.items()}\n",
        "word_index[\"<PAD>\"] = 0\n",
        "word_index[\"<START>\"] = 1\n",
        "word_index[\"<UNK>\"] = 2  # unknown\n",
        "word_index[\"<UNUSED>\"] = 3\n",
        "\n",
        "reverse_word_index = dict([(value, key) for (key, value) in word_index.items()])\n",
        "\n",
        "def decode_review(text):\n",
        "\treturn \" \".join([reverse_word_index.get(i, \"?\") for i in text])\n",
        "\n",
        "# this function will return the decoded (human readable) reviews"
      ],
      "metadata": {
        "id": "RmIGHmfL1wkt",
        "colab": {
          "base_uri": "https://localhost:8080/"
        },
        "outputId": "d45fdfd1-1934-433b-a5a0-c3b3340563cb"
      },
      "execution_count": null,
      "outputs": [
        {
          "output_type": "stream",
          "name": "stdout",
          "text": [
            "Downloading data from https://storage.googleapis.com/tensorflow/tf-keras-datasets/imdb_word_index.json\n",
            "1641221/1641221 [==============================] - 0s 0us/step\n"
          ]
        }
      ]
    },
    {
      "cell_type": "code",
      "source": [
        "print(decode_review(test_data[8]))"
      ],
      "metadata": {
        "colab": {
          "base_uri": "https://localhost:8080/"
        },
        "id": "TwXHE64z2iW6",
        "outputId": "2e00d57a-c1a3-444f-cd53-8133a34d6779"
      },
      "execution_count": null,
      "outputs": [
        {
          "output_type": "stream",
          "name": "stdout",
          "text": [
            "<START> hollywood had a long love affair with bogus arabian nights tales but few of these products have stood the test of time the most memorable were the jon hall maria montez films which have long since become camp this one is filled with dubbed songs anachronistic slang and slapstick it's a truly crop of corn and pretty near intolerable today it was nominated for its imaginative special effects which are almost unnoticeable in this day and age consisting mainly of trick photography the only outstanding positive feature which survives is its beautiful color and clarity sad to say of the many films made in this genre few of them come up to alexander korda's original thief of baghdad almost any other arabian nights film is superior to this one though it's a loser\n"
          ]
        }
      ]
    },
    {
      "cell_type": "code",
      "source": [
        "train_data=keras.preprocessing.sequence.pad_sequences(train_data,value=word_index[\"<PAD>\"],padding=\"post\",maxlen=200)\n",
        "test_data=keras.preprocessing.sequence.pad_sequences(test_data,value=word_index[\"<PAD>\"],padding=\"post\",maxlen=200)\n"
      ],
      "metadata": {
        "id": "6YINlace4Mgu"
      },
      "execution_count": null,
      "outputs": []
    },
    {
      "cell_type": "code",
      "source": [
        "#Model\n",
        "model=keras.Sequential()\n",
        "model.add(keras.layers.Embedding(88000,16))\n",
        "model.add(keras.layers.GlobalAveragePooling1D())\n",
        "model.add(keras.layers.Dense(16,activation='relu'))\n",
        "model.add(keras.layers.Dense(1,activation='sigmoid'))\n"
      ],
      "metadata": {
        "id": "y9a2ckR8Gcxy"
      },
      "execution_count": null,
      "outputs": []
    },
    {
      "cell_type": "code",
      "source": [
        "model.summary()"
      ],
      "metadata": {
        "colab": {
          "base_uri": "https://localhost:8080/"
        },
        "id": "gBaeqD-9H0zW",
        "outputId": "a153109c-297f-4eef-c423-2f937a9db0c4"
      },
      "execution_count": null,
      "outputs": [
        {
          "output_type": "stream",
          "name": "stdout",
          "text": [
            "Model: \"sequential\"\n",
            "_________________________________________________________________\n",
            " Layer (type)                Output Shape              Param #   \n",
            "=================================================================\n",
            " embedding (Embedding)       (None, None, 16)          1408000   \n",
            "                                                                 \n",
            " global_average_pooling1d (G  (None, 16)               0         \n",
            " lobalAveragePooling1D)                                          \n",
            "                                                                 \n",
            " dense (Dense)               (None, 16)                272       \n",
            "                                                                 \n",
            " dense_1 (Dense)             (None, 1)                 17        \n",
            "                                                                 \n",
            "=================================================================\n",
            "Total params: 1,408,289\n",
            "Trainable params: 1,408,289\n",
            "Non-trainable params: 0\n",
            "_________________________________________________________________\n"
          ]
        }
      ]
    },
    {
      "cell_type": "code",
      "source": [
        "from keras.engine.training import optimizer\n",
        "model.compile(optimizer=\"adam\",loss=\"binary_crossentropy\",metrics=[\"accuracy\"])\n",
        "\n",
        "x_val=train_data[:10000]\n",
        "x_train=train_data[10000:]\n",
        "\n",
        "y_val=train_label[:10000]\n",
        "y_train=train_label[10000:]\n"
      ],
      "metadata": {
        "id": "JSvC6CusUeMP"
      },
      "execution_count": null,
      "outputs": []
    },
    {
      "cell_type": "code",
      "source": [
        " #Training\n",
        "fitmodel=model.fit(x_train,y_train,epochs=40,batch_size=512,validation_data=(x_val,y_val),verbose=1)"
      ],
      "metadata": {
        "colab": {
          "base_uri": "https://localhost:8080/"
        },
        "id": "IBpQApaSjN72",
        "outputId": "62946b3a-d05e-49a5-c418-a84a4574bc39"
      },
      "execution_count": null,
      "outputs": [
        {
          "output_type": "stream",
          "name": "stdout",
          "text": [
            "Epoch 1/40\n",
            "30/30 [==============================] - 2s 44ms/step - loss: 0.6924 - accuracy: 0.5496 - val_loss: 0.6909 - val_accuracy: 0.7202\n",
            "Epoch 2/40\n",
            "30/30 [==============================] - 1s 34ms/step - loss: 0.6876 - accuracy: 0.7489 - val_loss: 0.6837 - val_accuracy: 0.7212\n",
            "Epoch 3/40\n",
            "30/30 [==============================] - 1s 36ms/step - loss: 0.6766 - accuracy: 0.7617 - val_loss: 0.6705 - val_accuracy: 0.7348\n",
            "Epoch 4/40\n",
            "30/30 [==============================] - 1s 35ms/step - loss: 0.6572 - accuracy: 0.7742 - val_loss: 0.6485 - val_accuracy: 0.7791\n",
            "Epoch 5/40\n",
            "30/30 [==============================] - 1s 43ms/step - loss: 0.6262 - accuracy: 0.8113 - val_loss: 0.6163 - val_accuracy: 0.7764\n",
            "Epoch 6/40\n",
            "30/30 [==============================] - 2s 52ms/step - loss: 0.5847 - accuracy: 0.8241 - val_loss: 0.5767 - val_accuracy: 0.7957\n",
            "Epoch 7/40\n",
            "30/30 [==============================] - 2s 52ms/step - loss: 0.5358 - accuracy: 0.8411 - val_loss: 0.5337 - val_accuracy: 0.8152\n",
            "Epoch 8/40\n",
            "30/30 [==============================] - 1s 40ms/step - loss: 0.4844 - accuracy: 0.8579 - val_loss: 0.4916 - val_accuracy: 0.8258\n",
            "Epoch 9/40\n",
            "30/30 [==============================] - 1s 36ms/step - loss: 0.4350 - accuracy: 0.8715 - val_loss: 0.4531 - val_accuracy: 0.8375\n",
            "Epoch 10/40\n",
            "30/30 [==============================] - 1s 34ms/step - loss: 0.3895 - accuracy: 0.8845 - val_loss: 0.4190 - val_accuracy: 0.8478\n",
            "Epoch 11/40\n",
            "30/30 [==============================] - 1s 35ms/step - loss: 0.3483 - accuracy: 0.8963 - val_loss: 0.3901 - val_accuracy: 0.8553\n",
            "Epoch 12/40\n",
            "30/30 [==============================] - 1s 34ms/step - loss: 0.3133 - accuracy: 0.9039 - val_loss: 0.3678 - val_accuracy: 0.8604\n",
            "Epoch 13/40\n",
            "30/30 [==============================] - 1s 34ms/step - loss: 0.2835 - accuracy: 0.9135 - val_loss: 0.3493 - val_accuracy: 0.8658\n",
            "Epoch 14/40\n",
            "30/30 [==============================] - 1s 34ms/step - loss: 0.2581 - accuracy: 0.9213 - val_loss: 0.3350 - val_accuracy: 0.8694\n",
            "Epoch 15/40\n",
            "30/30 [==============================] - 1s 35ms/step - loss: 0.2358 - accuracy: 0.9287 - val_loss: 0.3233 - val_accuracy: 0.8732\n",
            "Epoch 16/40\n",
            "30/30 [==============================] - 1s 36ms/step - loss: 0.2163 - accuracy: 0.9351 - val_loss: 0.3143 - val_accuracy: 0.8757\n",
            "Epoch 17/40\n",
            "30/30 [==============================] - 1s 36ms/step - loss: 0.1989 - accuracy: 0.9414 - val_loss: 0.3069 - val_accuracy: 0.8778\n",
            "Epoch 18/40\n",
            "30/30 [==============================] - 2s 53ms/step - loss: 0.1833 - accuracy: 0.9467 - val_loss: 0.3008 - val_accuracy: 0.8794\n",
            "Epoch 19/40\n",
            "30/30 [==============================] - 2s 53ms/step - loss: 0.1692 - accuracy: 0.9513 - val_loss: 0.2967 - val_accuracy: 0.8809\n",
            "Epoch 20/40\n",
            "30/30 [==============================] - 1s 46ms/step - loss: 0.1567 - accuracy: 0.9569 - val_loss: 0.2925 - val_accuracy: 0.8823\n",
            "Epoch 21/40\n",
            "30/30 [==============================] - 1s 36ms/step - loss: 0.1450 - accuracy: 0.9611 - val_loss: 0.2893 - val_accuracy: 0.8840\n",
            "Epoch 22/40\n",
            "30/30 [==============================] - 1s 36ms/step - loss: 0.1344 - accuracy: 0.9652 - val_loss: 0.2867 - val_accuracy: 0.8845\n",
            "Epoch 23/40\n",
            "30/30 [==============================] - 1s 36ms/step - loss: 0.1244 - accuracy: 0.9688 - val_loss: 0.2853 - val_accuracy: 0.8842\n",
            "Epoch 24/40\n",
            "30/30 [==============================] - 1s 36ms/step - loss: 0.1157 - accuracy: 0.9713 - val_loss: 0.2845 - val_accuracy: 0.8838\n",
            "Epoch 25/40\n",
            "30/30 [==============================] - 1s 36ms/step - loss: 0.1072 - accuracy: 0.9749 - val_loss: 0.2841 - val_accuracy: 0.8848\n",
            "Epoch 26/40\n",
            "30/30 [==============================] - 1s 33ms/step - loss: 0.0997 - accuracy: 0.9773 - val_loss: 0.2836 - val_accuracy: 0.8850\n",
            "Epoch 27/40\n",
            "30/30 [==============================] - 1s 36ms/step - loss: 0.0925 - accuracy: 0.9797 - val_loss: 0.2837 - val_accuracy: 0.8862\n",
            "Epoch 28/40\n",
            "30/30 [==============================] - 1s 34ms/step - loss: 0.0861 - accuracy: 0.9825 - val_loss: 0.2842 - val_accuracy: 0.8859\n",
            "Epoch 29/40\n",
            "30/30 [==============================] - 1s 36ms/step - loss: 0.0803 - accuracy: 0.9843 - val_loss: 0.2869 - val_accuracy: 0.8839\n",
            "Epoch 30/40\n",
            "30/30 [==============================] - 2s 56ms/step - loss: 0.0751 - accuracy: 0.9861 - val_loss: 0.2861 - val_accuracy: 0.8868\n",
            "Epoch 31/40\n",
            "30/30 [==============================] - 2s 52ms/step - loss: 0.0700 - accuracy: 0.9872 - val_loss: 0.2879 - val_accuracy: 0.8853\n",
            "Epoch 32/40\n",
            "30/30 [==============================] - 1s 48ms/step - loss: 0.0650 - accuracy: 0.9884 - val_loss: 0.2893 - val_accuracy: 0.8858\n",
            "Epoch 33/40\n",
            "30/30 [==============================] - 1s 36ms/step - loss: 0.0609 - accuracy: 0.9892 - val_loss: 0.2912 - val_accuracy: 0.8855\n",
            "Epoch 34/40\n",
            "30/30 [==============================] - 1s 36ms/step - loss: 0.0569 - accuracy: 0.9906 - val_loss: 0.2934 - val_accuracy: 0.8856\n",
            "Epoch 35/40\n",
            "30/30 [==============================] - 1s 36ms/step - loss: 0.0532 - accuracy: 0.9913 - val_loss: 0.2953 - val_accuracy: 0.8858\n",
            "Epoch 36/40\n",
            "30/30 [==============================] - 1s 34ms/step - loss: 0.0501 - accuracy: 0.9921 - val_loss: 0.2980 - val_accuracy: 0.8849\n",
            "Epoch 37/40\n",
            "30/30 [==============================] - 1s 34ms/step - loss: 0.0467 - accuracy: 0.9928 - val_loss: 0.3030 - val_accuracy: 0.8830\n",
            "Epoch 38/40\n",
            "30/30 [==============================] - 1s 34ms/step - loss: 0.0439 - accuracy: 0.9931 - val_loss: 0.3030 - val_accuracy: 0.8841\n",
            "Epoch 39/40\n",
            "30/30 [==============================] - 1s 34ms/step - loss: 0.0411 - accuracy: 0.9939 - val_loss: 0.3055 - val_accuracy: 0.8836\n",
            "Epoch 40/40\n",
            "30/30 [==============================] - 1s 36ms/step - loss: 0.0387 - accuracy: 0.9943 - val_loss: 0.3087 - val_accuracy: 0.8835\n"
          ]
        }
      ]
    },
    {
      "cell_type": "code",
      "source": [
        " results=model.evaluate(test_data,test_label)\n",
        " print(results)"
      ],
      "metadata": {
        "colab": {
          "base_uri": "https://localhost:8080/"
        },
        "id": "rL_2j0QcjkkZ",
        "outputId": "824bab45-db08-4dd4-d2fd-2f8cce316acb"
      },
      "execution_count": null,
      "outputs": [
        {
          "output_type": "stream",
          "name": "stdout",
          "text": [
            "782/782 [==============================] - 2s 2ms/step - loss: 0.3433 - accuracy: 0.8672\n",
            "[0.34333425760269165, 0.8672400116920471]\n"
          ]
        }
      ]
    },
    {
      "cell_type": "code",
      "source": [
        "#"
      ],
      "metadata": {
        "id": "Z8h30RUhlWrH"
      },
      "execution_count": null,
      "outputs": []
    },
    {
      "cell_type": "code",
      "source": [
        "#saving model\n",
        "model.save(\"model.h5\")  # name it whatever you want but end with .h5\n",
        ""
      ],
      "metadata": {
        "id": "-q2eKTriokxR"
      },
      "execution_count": null,
      "outputs": []
    },
    {
      "cell_type": "code",
      "source": [
        "#Loading the saved model\n",
        "from google.colab import drive\n",
        "drive.mount('/content/drive')\n",
        "\n",
        "model=keras.models.load_model(\"/content/drive/MyDrive/Colab Notebooks/model.h5\")\n",
        ""
      ],
      "metadata": {
        "colab": {
          "base_uri": "https://localhost:8080/"
        },
        "id": "ZhRRyy9HtwFh",
        "outputId": "90a88e89-597d-47ee-cb6f-bfaf5f1fa47a"
      },
      "execution_count": null,
      "outputs": [
        {
          "output_type": "stream",
          "name": "stdout",
          "text": [
            "Drive already mounted at /content/drive; to attempt to forcibly remount, call drive.mount(\"/content/drive\", force_remount=True).\n"
          ]
        }
      ]
    },
    {
      "cell_type": "code",
      "source": [
        "#Transforming our Data\n",
        "\n",
        "def review_encode(s):\n",
        "\tencoded = [1]\n",
        "\n",
        "\tfor word in s:\n",
        "\t\tif word.lower() in word_index:\n",
        "\t\t\tencoded.append(word_index[word.lower()])\n",
        "\t\telse:\n",
        "\t\t\tencoded.append(2)\n",
        "\n",
        "\treturn encoded"
      ],
      "metadata": {
        "id": "xDdIucsnt-rJ"
      },
      "execution_count": null,
      "outputs": []
    },
    {
      "cell_type": "code",
      "source": [
        "#Predicting\n",
        "with open(\"/content/drive/MyDrive/Colab Notebooks/text.txt\", encoding=\"utf-8\") as f:\n",
        "\tfor line in f.readlines():\n",
        "\t\tnline = line.replace(\",\", \"\").replace(\".\", \"\").replace(\"(\", \"\").replace(\")\", \"\").replace(\":\", \"\").replace(\"\\\"\",\"\").strip().split(\" \")\n",
        "\t\tencode = review_encode(nline)\n",
        "\t\tencode = keras.preprocessing.sequence.pad_sequences([encode], value=word_index[\"<PAD>\"], padding=\"post\", maxlen=250) # make the data 250 words long\n",
        "\t\tpredict = model.predict(encode)\n",
        "\t\tprint(line)\n",
        "\t\tprint(encode)\n",
        "\t\tprint(predict[0])"
      ],
      "metadata": {
        "colab": {
          "base_uri": "https://localhost:8080/"
        },
        "id": "WaghcdCAvvHQ",
        "outputId": "6dc8dd96-ef62-430b-d50b-d6321ca64767"
      },
      "execution_count": null,
      "outputs": [
        {
          "output_type": "stream",
          "name": "stdout",
          "text": [
            "1/1 [==============================] - 0s 92ms/step\n",
            "Of all the animation classics from the Walt Disney Company, there is perhaps none that is more celebrated than \"The Lion King.\" Its acclaim is understandable: this is quite simply a glorious work of art.\"The Lion King\" gets off to a fantastic start. The film's opening number, \"The Circle of Life,\" is outstanding. The song lasts for about four minutes, but from the first sound, the audience is floored. Not even National Geographic can capture something this beautiful and dramatic. Not only is this easily the greatest moment in film animation, this is one of the greatest sequences in film history. The story that follows is not as majestic, but the film has to tell a story. Actually, the rest of the film holds up quite well. The story takes place in Africa, where the lions rule. Their king, Mufasa (James Earl Jones) has just been blessed with a son, Simba (Jonathan Taylor Thomas), who goes in front of his uncle Scar (Jeremy Irons) as next in line for the throne. Scar is furious, and sets in motion plans to usurp the throne for himself. After a tragedy occurs and Mufasa is killed, Scar persuades Simba to flee, leaving himself as king. Simba grows up in exile, but he learns that while he can run away from his past, he can never escape it. When viewing the film, it is obvious that \"The Lion King\" is quite different from its predecessors (and successors). This is an epic story that contains more dramatic power than all the other Disney films combined. While there are definitely some light-hearted moments, there is no denying the dark drama that takes up the bulk of the story. While it could be argued that Disney is the champion of family entertainment, this film is not for the very young. Some of the sequences are very dark and violent, many bordering on frightening, even for the older crowd.The voice actors are terrific. Jonathan Taylor Thomas brings a large dose of innocence to Young Simba. He's mischievous, but also terribly naive. His older counterpart, voiced by Matthew Broderick, equals him. He's older, but no less mature. The voices are so similar that it's almost impossible not to believe that they are the same character at different ages. Perhaps no one could have been better suited for the role of Mufasa than James Earl Jones. His baritone voice gives the Mufasa a quality of great power and wisdom; there is no question that his role is king. As Scar, Jeremy Irons is pitch-perfect. The drawing of the character is villainous, but Irons' vocal work complements the animation to create one of the most memorable, and vicious, villains in Disney history. He's unquestionably evil, but he's also clever, which makes him all the more dangerous. Manipulation, not violence is his greatest weapon. Providing some much needed comic relief are Nathan Lane and Ernie Sabella as Timon and Pumbaa, two other outcasts (a meerkat and a warthog), and Rowan Atkinson as Zazu. While there is definite fun from these characters, neither the actors nor the filmmakers allow them to go over-the-top and destroy the mood of the film.Disney's animated features are known for their gorgeous artwork. Nowhere is this more apparent than in \"The Lion King.\" Every single frame is jaw-dropping. The colors are rich, and the drawings are sharp and beautiful. One of the pitfalls of animation (both computer and hand-drawn) is that there is sometimes a visible distance between the subject and the background, making it seem as if the figure animation was cut and pasted on the background (this is obviously what happens, but it is up to the artists to make sure that it isn't noticeable). There is none of that here.Throughout the Golden Age of Disney animation, the films have been musicals. \"The Lion King\" is no different, and the songs are brilliant. All of the numbers are standouts (\"Can You Feel the Love Tonight\" won the Oscar, but in my opinion, \"The Circle of Life\" was better). In the cases of Simba and Nala (Simba's girlfriend), both young and old, there is a noticeable difference between the speaking and singing parts (everyone else does their own singing and speaking), but never mind. It still works, and that's what's important.\"The Lion King\" is not flawless, but on first viewing, they aren't noticeable, and it is likely that the young won't ever notice them. \"Beauty and the Beast\" was the first animated film to get an Oscar nomination for Best Picture (it lost to \"The Silence of the Lambs\"), and is thus far the only animated film to receive such an honor. That being the case, it's hard to understand why \"The Lion King\" was not given the same distinction. The two films are more or less equal in quality, and the nominees for the honor that year were not strong. If you haven't already, see \"The Lion King.\" You won't be disappointed.\n",
            "[[    6  4687  3744   200     4   875     5     4   978   231    12   306\n",
            "     17    48     4   822   748    16   605     5 12625    23     4   978\n",
            "     14     9   540    51   571    21    12     9    56     8     4  2719\n",
            "      8    97   252    15    12   218  6456    50     9   600     7    15\n",
            "      2     4  2050   559     7   910   748     4   108    28    77  2769\n",
            "      4  3082   711     9    57   275     5     4   690    26   530    32\n",
            "      7     4  1396    26 16015    70    25   235     4   119  4487  1199\n",
            "      4   735    21    11    61   652     4  4246     7   113    16   128\n",
            "     11     4  2936     7 10539     5 35738 20403   980   199   185     5\n",
            "    154    50     9     6  6456  1474   200     4  1386     5  1118   531\n",
            "    316   334   127    68   205  1118     5  1386    21   115   330    12\n",
            "    131   495     5   198   803     2  3082   711     9    24  3562    21\n",
            "     23    86   829    36   713  6456     5    12     9  1329    15     4\n",
            "    185   528   126  1495    98   936     5     4  2773    16     4    86\n",
            "   1125    22     8    79    35   735  4372    18   118   431    12   416\n",
            "      8     4  3542     7     4 10721     5     9  1346   230     4    64\n",
            "   1125    22     8  3911   141    35  2898    15   112     4   420    45\n",
            "    254     8   391   138     4  3082   711    16    24   348     4   172\n",
            "   8076     4   107   108    26    53    42   329  3215    11   489     5\n",
            "      4 13341    18     4  2898    15   291    71    24   565    48    25\n",
            "    774   460    67     4  3082   711    25   528    30   685]]\n",
            "[0.9633373]\n"
          ]
        }
      ]
    },
    {
      "cell_type": "code",
      "source": [],
      "metadata": {
        "id": "8JJP6bHev06S"
      },
      "execution_count": null,
      "outputs": []
    }
  ]
}